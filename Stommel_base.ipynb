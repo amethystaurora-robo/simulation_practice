{
 "cells": [
  {
   "cell_type": "code",
   "execution_count": 1,
   "id": "d794eb81-c477-46b3-bb9b-d31f3392f410",
   "metadata": {},
   "outputs": [],
   "source": [
    "import numpy as np\n",
    "from scipy.integrate import solve_ivp"
   ]
  },
  {
   "cell_type": "code",
   "execution_count": 2,
   "id": "9090204d-fbdd-48ca-b2da-4a899a1b565f",
   "metadata": {},
   "outputs": [],
   "source": [
    "def smoothabs(x, xi=10000):\n",
    "    \"\"\"Smooth absolute value function\"\"\"\n",
    "    return x * np.tanh(x * xi)\n"
   ]
  },
  {
   "cell_type": "code",
   "execution_count": 3,
   "id": "3fe83555-b661-49b5-a147-d493caaf9541",
   "metadata": {},
   "outputs": [],
   "source": [
    " def gottwald_noice(t, u, p, stochsys=True):\n",
    "    \"\"\"Gottwald model functions without sea ice\"\"\"\n",
    "    x, y, z, T, S = u\n",
    "    if stochsys:\n",
    "        pvec = p[0] if isinstance(p, list) else p\n",
    "    else:\n",
    "        pvec = p\n",
    "    \n",
    "    (a, b, mu, epsilon_a, epsilon_f, F0, F1, G0, G1, \n",
    "     theta_0, theta_1, sigma_0, sigma_1, x_mean, Delta_mean) = pvec\n",
    "    \n",
    "    Delta = y**2 + z**2\n",
    "    T_surf = theta_0 + theta_1 * (x - x_mean)/(np.sqrt(epsilon_f))\n",
    "    S_surf = sigma_0 + sigma_1 * (Delta - Delta_mean)/(np.sqrt(epsilon_f))\n",
    "    \n",
    "    dx = 1/epsilon_f*(-Delta - a*(x - F0 - F1*T))\n",
    "    dy = 1/epsilon_f*(x*y - b*x*z - (y - G0 + G1*T))\n",
    "    dz = 1/epsilon_f*(b*x*y + x*z - z)\n",
    "    dT = -1/epsilon_a*(T - T_surf) - T - mu*smoothabs(S-T)*T\n",
    "    dS = S_surf - S - mu*smoothabs(S-T)*S\n",
    "    \n",
    "    return np.array([dx, dy, dz, dT, dS])"
   ]
  },
  {
   "cell_type": "code",
   "execution_count": 4,
   "id": "85b63af0-6a25-4c75-be26-2783bcfa3dd9",
   "metadata": {},
   "outputs": [],
   "source": [
    "def gottwald_noice_scaled(t, u, p, stochsys=True):\n",
    "    \"\"\"Rescaled (x/y/z) for edge tracking\"\"\"\n",
    "    x, y, z, T, S = u\n",
    "    if stochsys:\n",
    "        pvec = p[0] if isinstance(p, list) else p\n",
    "    else:\n",
    "        pvec = p\n",
    "    \n",
    "    (a, b, mu, epsilon_a, epsilon_f, F0, F1, G0, G1, \n",
    "     theta_0, theta_1, sigma_0, sigma_1, x_mean, Delta_mean, s) = pvec\n",
    "    \n",
    "    Delta = y**2 + z**2\n",
    "    T_surf = theta_0 + theta_1 * (s*x - x_mean)/(np.sqrt(epsilon_f))\n",
    "    S_surf = sigma_0 + sigma_1 * (s**2*Delta - Delta_mean)/(np.sqrt(epsilon_f))\n",
    "    \n",
    "    dx = 1/epsilon_f*(-s*Delta - a/s*(s*x - F0 - F1*T))\n",
    "    dy = 1/epsilon_f*(s*x*y - s*b*x*z - (s*y - G0 + G1*T)/s)\n",
    "    dz = 1/epsilon_f*(s*b*x*y + s*x*z - z)\n",
    "    dT = -1/epsilon_a*(T - T_surf) - T - mu*smoothabs(S-T)*T\n",
    "    dS = S_surf - S - mu*smoothabs(S-T)*S\n",
    "    \n",
    "    return np.array([dx, dy, dz, dT, dS])"
   ]
  },
  {
   "cell_type": "code",
   "execution_count": 5,
   "id": "0cb6ebc3-2bce-4d7e-900d-d123f645b4ad",
   "metadata": {},
   "outputs": [],
   "source": [
    "def gottwald_noice_seasons(t, u, p):\n",
    "    \"\"\"Gottwald model functions without sea ice, but with seasonal cycle\"\"\"\n",
    "    x, y, z, T, S = u\n",
    "    (a, b, mu, epsilon_a, epsilon_f, F0, F1, G0, G1, \n",
    "     theta_0, theta_1, sigma_0, sigma_1, x_mean, Delta_mean, td, F2, G2) = p[0]\n",
    "    \n",
    "    omega = 2.0 * np.pi * td  # annual frequency\n",
    "    Delta = y**2 + z**2\n",
    "    T_surf = theta_0 + theta_1 * (x - x_mean)/(np.sqrt(epsilon_f))\n",
    "    S_surf = sigma_0 + sigma_1 * (Delta - Delta_mean)/(np.sqrt(epsilon_f))\n",
    "    \n",
    "    dx = 1/epsilon_f*(-Delta - a*(x - F0 - F1*T - F2*np.cos(omega * t)))\n",
    "    dy = 1/epsilon_f*(x*y - b*x*z - (y - G0 + G1*T - G2*np.cos(omega * t)))\n",
    "    dz = 1/epsilon_f*(b*x*y + x*z - z)\n",
    "    dT = -1/epsilon_a*(T - T_surf) - T - mu*smoothabs(S-T)*T\n",
    "    dS = S_surf - S - mu*smoothabs(S-T)*S\n",
    "    \n",
    "    return np.array([dx, dy, dz, dT, dS])"
   ]
  },
  {
   "cell_type": "code",
   "execution_count": 6,
   "id": "5046cbcf-d827-4672-b091-8fd910edae83",
   "metadata": {},
   "outputs": [],
   "source": [
    "def param_gwn_default(param_l84=None, sigma_0=0.926): #**kwargs):\n",
    "    \"\"\"return parameter values\"\"\"\n",
    "    if param_l84 is not None:\n",
    "        a, b, F0, G0 = param_l84\n",
    "    else:\n",
    "        param_l84 = [0.25, 4., 8., 1.]  # default L84 params [a, b, F0, G0]\n",
    "        \n",
    "    x_std = 0.513\n",
    "    Delta_std = 1.071\n",
    "    x_mean = 1.0147\n",
    "    Delta_mean = 1.7463  # long-run results from default L84\n",
    "    \n",
    "    # Unpack L84 params\n",
    "    a, b, F0, G0 = param_l84\n",
    "    \n",
    "    # Other default model params\n",
    "    mu = 7.5\n",
    "    theta_0 = 1.\n",
    "    # sigma_0 = 0.9  # Stommel params (is varied) 0.926, 0.932\n",
    "    epsilon_a = 0.34\n",
    "    epsilon_f = 0.0003  # 0.0083 # timescales\n",
    "    F1 = 0.1\n",
    "    G1 = 0.  # coupling params\n",
    "    perturb_scaling = 0.01  # coupling strength of L84 to Stommel\n",
    "    \n",
    "    # Coupling params from L84 run/default\n",
    "    theta_1 = min(theta_0, perturb_scaling/x_std)\n",
    "    sigma_1 = min(sigma_0, perturb_scaling/Delta_std)\n",
    "   \n",
    "    \n",
    "    return [a, b, mu, epsilon_a, epsilon_f, F0, F1, G0, G1, \n",
    "            theta_0, theta_1, sigma_0, sigma_1, x_mean, Delta_mean]"
   ]
  },
  {
   "cell_type": "code",
   "execution_count": 7,
   "id": "9c2d0dcc-f4a2-4848-9b15-67b626450a9c",
   "metadata": {},
   "outputs": [],
   "source": [
    "def simulate_gottwald_noice(initial_conditions, params, t_span, t_eval=None, stochsys=True):\n",
    "    \"\"\"Simulate the Gottwald model without sea ice\"\"\"\n",
    "    sol = solve_ivp(\n",
    "        lambda t, y: gottwald_noice(t, y, params, stochsys),\n",
    "        t_span,\n",
    "        initial_conditions,\n",
    "        t_eval=t_eval,\n",
    "        method='RK45',\n",
    "        rtol=1e-10,\n",
    "        atol=1e-10\n",
    "    )\n",
    "    return sol"
   ]
  },
  {
   "cell_type": "code",
   "execution_count": 8,
   "id": "56b2182e-3f2d-4f79-b236-130203b08a4e",
   "metadata": {},
   "outputs": [
    {
     "name": "stdout",
     "output_type": "stream",
     "text": [
      "Default Gottwald parameters:\n",
      "[0.25, 4.0, 7.5, 0.34, 0.0003, 8.0, 0.1, 1.0, 0.0, 1.0, 0.01949317738791423, 0.926, 0.009337068160597572, 1.0147, 1.7463]\n"
     ]
    }
   ],
   "source": [
    "# Example usage\n",
    "if __name__ == \"__main__\":\n",
    "    import matplotlib.pyplot as plt\n",
    "    import matplotlib\n",
    "    matplotlib.use('Agg')\n",
    "    \n",
    "    # Get default Gottwald parameters\n",
    "    params_gwn = param_gwn_default()\n",
    "    print(f\"Default Gottwald parameters:\")\n",
    "    print(params_gwn)\n",
    "    \n",
    "    # Simulate Gottwald model\n",
    "    initial_gwn = [1.0, 0.5, 0.5, 1.0, 0.9]  # [x, y, z, T, S]\n",
    "    # params_gwn_wrapped = [params_gwn]  # Wrap in list for stochsys format\n",
    "    tmax = 50 # 00\n",
    "    t_eval = np.linspace(0, tmax, tmax* 10000)\n",
    "\n",
    "    sol_gwn = simulate_gottwald_noice(initial_gwn, params_gwn, (0, tmax), \n",
    "                                       t_eval=t_eval, stochsys=False)\n",
    "\n",
    "\n",
    "\n",
    "    fig, ax = plt.subplots(1, 3, figsize=(4 * 2.5, 3))\n",
    "    ax[0].plot(sol_gwn.t, sol_gwn.y[3], label=\"T\")\n",
    "    ax[0].plot(sol_gwn.t, sol_gwn.y[4], label=\"S\")\n",
    "    ax[0].legend()\n",
    "    ax[0].set_xlabel(\"t\")\n",
    "    ax[1].plot(sol_gwn.y[0][:1000], sol_gwn.y[1][:1000])\n",
    "    ax[1].plot(sol_gwn.y[0][-1000:], sol_gwn.y[1][-1000:])\n",
    "    ax[1].set_xlabel(\"x\")\n",
    "    ax[1].set_ylabel(\"y\")\n",
    "    ax[2].plot(sol_gwn.y[1][:1000], sol_gwn.y[2][:1000])\n",
    "    ax[2].plot(sol_gwn.y[1][-1000:], sol_gwn.y[2][-1000:])    \n",
    "    ax[2].set_xlabel(\"y\")\n",
    "    ax[2].set_ylabel(\"z\")\n",
    "    fig.tight_layout()   \n",
    "\n",
    "    fig.savefig('gottwald_noice.png')"
   ]
  },
  {
   "cell_type": "code",
   "execution_count": null,
   "id": "bf2e3d68-10cf-4b0e-a453-a7e9ab2a869a",
   "metadata": {},
   "outputs": [],
   "source": []
  }
 ],
 "metadata": {
  "kernelspec": {
   "display_name": "Python 3 (ipykernel)",
   "language": "python",
   "name": "python3"
  },
  "language_info": {
   "codemirror_mode": {
    "name": "ipython",
    "version": 3
   },
   "file_extension": ".py",
   "mimetype": "text/x-python",
   "name": "python",
   "nbconvert_exporter": "python",
   "pygments_lexer": "ipython3",
   "version": "3.9.13"
  }
 },
 "nbformat": 4,
 "nbformat_minor": 5
}
