{
 "cells": [
  {
   "cell_type": "code",
   "execution_count": 13,
   "id": "e28869a6-e928-46cd-944c-d280aa31eade",
   "metadata": {},
   "outputs": [],
   "source": [
    "import pandas as pd\n",
    "import numpy as np\n",
    "import seaborn as sns\n",
    "import matplotlib.pyplot as plt"
   ]
  },
  {
   "cell_type": "code",
   "execution_count": 16,
   "id": "9e27831c-3b8e-4d4d-bb83-53f8654f45de",
   "metadata": {},
   "outputs": [],
   "source": [
    "gottwald_one = pd.read_csv('gottwald_1000_years_0.03.csv')\n",
    "gottwald_two = pd.read_csv('gottwald_1000_years_0.003.csv')\n",
    "gottwald_three = pd.read_csv('gottwald_1000_years_0.0003.csv')\n",
    "gottwald_four = pd.read_csv('gottwald_1000_years_3e-05.csv')\n",
    "gottwald_five = pd.read_csv('gottwald_1000_years_3e-06.csv')\n",
    "gottwald_six = pd.read_csv('gottwald_1000_years_3e-07.csv')\n",
    "gottwald_seven = pd.read_csv('gottwald_1000_years_3e-08.csv')\n",
    "gottwald_eight = pd.read_csv('gottwald_1000_years_3e-09.csv')\n",
    "gottwald_nine = pd.read_csv('gottwald_1000_years_3e-10.csv')"
   ]
  },
  {
   "cell_type": "code",
   "execution_count": 17,
   "id": "af4da534-a98e-4db2-85e4-cd6bec35459f",
   "metadata": {},
   "outputs": [],
   "source": [
    "df_list = [gottwald_one, gottwald_two, gottwald_three, gottwald_four, gottwald_five, gottwald_six, gottwald_seven, \n",
    "           gottwald_eight, gottwald_nine]\n",
    "for df in df_list:\n",
    "    df['coupled'] = df['T'] - df['S']"
   ]
  },
  {
   "cell_type": "code",
   "execution_count": 34,
   "id": "210a3c6c-58af-48ba-8966-20a507bb8d28",
   "metadata": {},
   "outputs": [],
   "source": [
    "colors = ['#abc9cd','#7abe80','#ffbdbd', '#658e93', '#45954c']\n",
    "sns.set_palette(sns.color_palette(colors))\n",
    "sns.set_style(\"darkgrid\")\n",
    "for i, df in enumerate(df_list):\n",
    "    # Create a figure and axis\n",
    "    fig, ax = plt.subplots(figsize=(6, 4))\n",
    "    \n",
    "    # Plot onto the axis\n",
    "    sns.lineplot(data=df, x='t', y='coupled', ax=ax)\n",
    "    \n",
    "    # Labels and title\n",
    "    ax.set_xlabel('Time')\n",
    "    ax.set_ylabel('T-S')\n",
    "    ax.set_title(f\"Simulation {i+1}\")\n",
    "    \n",
    "    # Adjust layout\n",
    "    fig.tight_layout()\n",
    "    \n",
    "    # Save the figure\n",
    "    fig.savefig(f\"Simulation_{i+1}.png\", dpi=300)\n",
    "    \n",
    "    # Close the figure to free memory\n",
    "    plt.close(fig)"
   ]
  }
 ],
 "metadata": {
  "kernelspec": {
   "display_name": "Python 3 (ipykernel)",
   "language": "python",
   "name": "python3"
  },
  "language_info": {
   "codemirror_mode": {
    "name": "ipython",
    "version": 3
   },
   "file_extension": ".py",
   "mimetype": "text/x-python",
   "name": "python",
   "nbconvert_exporter": "python",
   "pygments_lexer": "ipython3",
   "version": "3.9.13"
  }
 },
 "nbformat": 4,
 "nbformat_minor": 5
}
